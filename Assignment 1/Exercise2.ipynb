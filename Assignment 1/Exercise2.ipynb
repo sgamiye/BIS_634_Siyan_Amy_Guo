{
 "cells": [
  {
   "cell_type": "markdown",
   "metadata": {},
   "source": [
    "# Exercise 2"
   ]
  },
  {
   "cell_type": "code",
   "execution_count": 10,
   "metadata": {},
   "outputs": [],
   "source": [
    "import pandas as pd\n",
    "import sqlite3\n",
    "with sqlite3.connect(\"hw1-population.db\") as db:\n",
    "    data = pd.read_sql_query(\"SELECT * FROM population\", db)"
   ]
  },
  {
   "cell_type": "markdown",
   "metadata": {},
   "source": [
    "### Examine data:"
   ]
  },
  {
   "cell_type": "code",
   "execution_count": 11,
   "metadata": {},
   "outputs": [
    {
     "data": {
      "text/plain": [
       "Index(['name', 'age', 'weight', 'eyecolor'], dtype='object')"
      ]
     },
     "execution_count": 11,
     "metadata": {},
     "output_type": "execute_result"
    }
   ],
   "source": [
    "data.columns"
   ]
  },
  {
   "cell_type": "code",
   "execution_count": 12,
   "metadata": {},
   "outputs": [
    {
     "data": {
      "text/plain": [
       "(152361, 4)"
      ]
     },
     "execution_count": 12,
     "metadata": {},
     "output_type": "execute_result"
    }
   ],
   "source": [
    "data.shape"
   ]
  },
  {
   "cell_type": "markdown",
   "metadata": {},
   "source": [
    "##### Answer to Exercise 2.1(as shown in readme.md):  It has columns for name, age, weight, and eyecolor. And it has 152361 rows (people)."
   ]
  },
  {
   "cell_type": "markdown",
   "metadata": {},
   "source": [
    "### Examine the distribution of the ages:"
   ]
  },
  {
   "cell_type": "code",
   "execution_count": 69,
   "metadata": {},
   "outputs": [
    {
     "name": "stdout",
     "output_type": "stream",
     "text": [
      "mean: 39.510527927396524\n",
      "standard_deviation: 24.152760068601445\n",
      "minimum: 0.0007476719217636152\n",
      "maximum: 99.99154733076972\n"
     ]
    }
   ],
   "source": [
    "mean_of_ages= data.age.mean()\n",
    "standard_deviation_of_ages= data.age.std()\n",
    "minimum_of_ages= data.age.min()\n",
    "maximum_of_ages= data.age.max()\n",
    "print(f'mean: {mean_of_ages}')\n",
    "print(f'standard_deviation: {standard_deviation_of_ages}')\n",
    "print(f'minimum: {minimum_of_ages}')\n",
    "print(f'maximum: {maximum_of_ages}')"
   ]
  },
  {
   "cell_type": "markdown",
   "metadata": {},
   "source": [
    "#### Plot histogram of the distribution with an appropriate number of bins for the size of the dataset"
   ]
  },
  {
   "cell_type": "code",
   "execution_count": 73,
   "metadata": {
    "collapsed": true,
    "jupyter": {
     "outputs_hidden": true
    }
   },
   "outputs": [
    {
     "name": "stdout",
     "output_type": "stream",
     "text": [
      "Collecting package metadata (current_repodata.json): done\n",
      "Solving environment: failed with initial frozen solve. Retrying with flexible solve.\n",
      "Solving environment: failed with repodata from current_repodata.json, will retry with next repodata source.\n",
      "Collecting package metadata (repodata.json): done\n",
      "Solving environment: done\n",
      "\n",
      "\n",
      "==> WARNING: A newer version of conda exists. <==\n",
      "  current version: 4.9.2\n",
      "  latest version: 4.14.0\n",
      "\n",
      "Please update conda by running\n",
      "\n",
      "    $ conda update -n base -c defaults conda\n",
      "\n",
      "\n",
      "\n",
      "## Package Plan ##\n",
      "\n",
      "  environment location: /Users/amygdk/opt/anaconda3\n",
      "\n",
      "  added / updated specs:\n",
      "    - plotnine\n",
      "\n",
      "\n",
      "The following packages will be downloaded:\n",
      "\n",
      "    package                    |            build\n",
      "    ---------------------------|-----------------\n",
      "    conda-4.12.0               |   py38h50d1736_0        1020 KB  conda-forge\n",
      "    descartes-1.1.0            |             py_4           7 KB  conda-forge\n",
      "    mizani-0.7.3               |     pyhd8ed1ab_0          53 KB  conda-forge\n",
      "    openssl-1.1.1h             |       haf1e3a3_0         1.9 MB  conda-forge\n",
      "    palettable-3.3.0           |             py_0          86 KB  conda-forge\n",
      "    plotnine-0.8.0             |     pyhd8ed1ab_0         3.8 MB  conda-forge\n",
      "    python_abi-3.8             |           2_cp38           4 KB  conda-forge\n",
      "    ------------------------------------------------------------\n",
      "                                           Total:         6.9 MB\n",
      "\n",
      "The following NEW packages will be INSTALLED:\n",
      "\n",
      "  descartes          conda-forge/noarch::descartes-1.1.0-py_4\n",
      "  mizani             conda-forge/noarch::mizani-0.7.3-pyhd8ed1ab_0\n",
      "  palettable         conda-forge/noarch::palettable-3.3.0-py_0\n",
      "  plotnine           conda-forge/noarch::plotnine-0.8.0-pyhd8ed1ab_0\n",
      "  python_abi         conda-forge/osx-64::python_abi-3.8-2_cp38\n",
      "\n",
      "The following packages will be UPDATED:\n",
      "\n",
      "  conda               pkgs/main::conda-4.9.2-py38hecd8cb5_0 --> conda-forge::conda-4.12.0-py38h50d1736_0\n",
      "\n",
      "The following packages will be SUPERSEDED by a higher-priority channel:\n",
      "\n",
      "  openssl                                         pkgs/main --> conda-forge\n",
      "\n",
      "\n",
      "\n",
      "Downloading and Extracting Packages\n",
      "openssl-1.1.1h       | 1.9 MB    | ##################################### | 100% \n",
      "mizani-0.7.3         | 53 KB     | ##################################### | 100% \n",
      "python_abi-3.8       | 4 KB      | ##################################### | 100% \n",
      "palettable-3.3.0     | 86 KB     | ##################################### | 100% \n",
      "descartes-1.1.0      | 7 KB      | ##################################### | 100% \n",
      "plotnine-0.8.0       | 3.8 MB    | ##################################### | 100% \n",
      "conda-4.12.0         | 1020 KB   | ##################################### | 100% \n",
      "Preparing transaction: done\n",
      "Verifying transaction: done\n",
      "Executing transaction: done\n"
     ]
    }
   ],
   "source": [
    "! conda install -c conda-forge plotnine -y"
   ]
  },
  {
   "cell_type": "markdown",
   "metadata": {},
   "source": [
    "##### Note: I tried to plot with matplotlib and ggplot to see which visualization was better, and ggplot is much better, so for weight I only used ggplot to plot"
   ]
  },
  {
   "cell_type": "code",
   "execution_count": 334,
   "metadata": {},
   "outputs": [],
   "source": [
    "import plotnine as p9\n",
    "from plotnine import *"
   ]
  },
  {
   "cell_type": "code",
   "execution_count": 233,
   "metadata": {},
   "outputs": [],
   "source": [
    "from matplotlib import pyplot as plt\n",
    "from matplotlib import colors\n",
    "from matplotlib.ticker import PercentFormatter\n",
    "import numpy as np"
   ]
  },
  {
   "cell_type": "code",
   "execution_count": 3,
   "metadata": {},
   "outputs": [],
   "source": [
    "#determining bin number"
   ]
  },
  {
   "cell_type": "code",
   "execution_count": 243,
   "metadata": {},
   "outputs": [
    {
     "name": "stdout",
     "output_type": "stream",
     "text": [
      "bin_number: 70\n"
     ]
    }
   ],
   "source": [
    "q25,q75 = np.percentile(data.age, [25, 75])\n",
    "bin_width = 2 * (q75 - q25) * len(data.age) ** (-1/3)\n",
    "bins = round((maximum_of_ages - minimum_of_ages) / bin_width)\n",
    "print(f'bin_number: {bins}')"
   ]
  },
  {
   "cell_type": "code",
   "execution_count": 4,
   "metadata": {},
   "outputs": [],
   "source": [
    "#plot with matplotlib"
   ]
  },
  {
   "cell_type": "code",
   "execution_count": 244,
   "metadata": {},
   "outputs": [
    {
     "data": {
      "text/plain": [
       "(array([2827., 2811., 2789., 2888., 2826., 2715., 2982., 2728., 2861.,\n",
       "        2829., 2813., 2782., 2784., 2906., 2833., 2842., 2861., 2847.,\n",
       "        2901., 2784., 2879., 2825., 2764., 2910., 2792., 2801., 2812.,\n",
       "        2807., 2803., 2860., 2776., 2853., 2865., 2843., 2837., 2847.,\n",
       "        2858., 2826., 2828., 2903., 2845., 2787., 2856., 2750., 2795.,\n",
       "        2869., 2803., 2733., 2816.,  678.,  651.,  624.,  663.,  691.,\n",
       "         665.,  626.,  688.,  667.,  644.,  595.,  720.,  626.,  647.,\n",
       "         654.,  643.,  685.,  633.,  662.,  658.,  689.]),\n",
       " array([7.47671922e-04, 1.42918767e+00, 2.85762766e+00, 4.28606766e+00,\n",
       "        5.71450765e+00, 7.14294765e+00, 8.57138764e+00, 9.99982764e+00,\n",
       "        1.14282676e+01, 1.28567076e+01, 1.42851476e+01, 1.57135876e+01,\n",
       "        1.71420276e+01, 1.85704676e+01, 1.99989076e+01, 2.14273476e+01,\n",
       "        2.28557876e+01, 2.42842276e+01, 2.57126676e+01, 2.71411076e+01,\n",
       "        2.85695476e+01, 2.99979876e+01, 3.14264276e+01, 3.28548676e+01,\n",
       "        3.42833076e+01, 3.57117476e+01, 3.71401875e+01, 3.85686275e+01,\n",
       "        3.99970675e+01, 4.14255075e+01, 4.28539475e+01, 4.42823875e+01,\n",
       "        4.57108275e+01, 4.71392675e+01, 4.85677075e+01, 4.99961475e+01,\n",
       "        5.14245875e+01, 5.28530275e+01, 5.42814675e+01, 5.57099075e+01,\n",
       "        5.71383475e+01, 5.85667875e+01, 5.99952275e+01, 6.14236675e+01,\n",
       "        6.28521075e+01, 6.42805475e+01, 6.57089874e+01, 6.71374274e+01,\n",
       "        6.85658674e+01, 6.99943074e+01, 7.14227474e+01, 7.28511874e+01,\n",
       "        7.42796274e+01, 7.57080674e+01, 7.71365074e+01, 7.85649474e+01,\n",
       "        7.99933874e+01, 8.14218274e+01, 8.28502674e+01, 8.42787074e+01,\n",
       "        8.57071474e+01, 8.71355874e+01, 8.85640274e+01, 8.99924674e+01,\n",
       "        9.14209074e+01, 9.28493474e+01, 9.42777874e+01, 9.57062273e+01,\n",
       "        9.71346673e+01, 9.85631073e+01, 9.99915473e+01]),\n",
       " <BarContainer object of 70 artists>)"
      ]
     },
     "execution_count": 244,
     "metadata": {},
     "output_type": "execute_result"
    },
    {
     "data": {
      "image/png": "[encoded data removed]",
      "text/plain": [
       "<Figure size 432x288 with 1 Axes>"
      ]
     },
     "metadata": {
      "needs_background": "light"
     },
     "output_type": "display_data"
    }
   ],
   "source": [
    "plt.hist(x=data.age, density=False, bins=bins, ec= 'white',color='green')"
   ]
  },
  {
   "cell_type": "code",
   "execution_count": 5,
   "metadata": {},
   "outputs": [],
   "source": [
    "# plot with ggplot"
   ]
  },
  {
   "cell_type": "code",
   "execution_count": 255,
   "metadata": {},
   "outputs": [
    {
     "data": {
      "image/png": "[encoded data removed]",
      "text/plain": [
       "<Figure size 640x480 with 1 Axes>"
      ]
     },
     "metadata": {},
     "output_type": "display_data"
    },
    {
     "data": {
      "text/plain": [
       "<ggplot: (8789209560408)>"
      ]
     },
     "execution_count": 255,
     "metadata": {},
     "output_type": "execute_result"
    }
   ],
   "source": [
    "(ggplot(data, aes(x='age'))\n",
    " + geom_histogram(binwidth=bin_width,\n",
    "                 fill='green',\n",
    "                 colour='blue',\n",
    "                 size=0.5,\n",
    "                 alpha=0.5\n",
    "                 )\n",
    " + theme_xkcd()\n",
    ")"
   ]
  },
  {
   "cell_type": "markdown",
   "metadata": {},
   "source": [
    "##### role of bin numbers (also in readme.md):the number of bins (associated with binwidth) determine the presentation of the histogram's pattern. If the number is too great, there will be too much details shown on the histogram, so that it is very difficult to recognize the actual pattern of the whole dataset, and it may include noises that divert the pattern to be distracted. If the number of bins gets too low, it tends to oversmooth essential details such as peak counts at one datapoint. Therefore, it is very important to use an appropriate bin number to graph histogram so that the pattern and details of the data can be visualized as being closer to the true data pattern. "
   ]
  },
  {
   "cell_type": "markdown",
   "metadata": {},
   "source": [
    "##### specifying regions for patterns"
   ]
  },
  {
   "cell_type": "code",
   "execution_count": 280,
   "metadata": {},
   "outputs": [],
   "source": [
    "count_table_age= round(data.age).value_counts()"
   ]
  },
  {
   "cell_type": "code",
   "execution_count": 289,
   "metadata": {},
   "outputs": [],
   "source": [
    "count_table_age = np.logical_and(count_table_age>1000, count_table_age<1500)"
   ]
  },
  {
   "cell_type": "code",
   "execution_count": 292,
   "metadata": {},
   "outputs": [
    {
     "data": {
      "text/plain": [
       "70.0    True\n",
       "Name: age, dtype: bool"
      ]
     },
     "execution_count": 292,
     "metadata": {},
     "output_type": "execute_result"
    }
   ],
   "source": [
    "count_table_age[count_table_age==True]"
   ]
  },
  {
   "cell_type": "markdown",
   "metadata": {},
   "source": [
    "#### Comment on any outliers or patterns: People at ages from 0 to approximately 70 have similar counts, while those at age 70-100 have similar counts, this shows a segmented pattern for people at ages below 70 and above 70."
   ]
  },
  {
   "cell_type": "markdown",
   "metadata": {},
   "source": [
    "### Examine the distribution of the weights:"
   ]
  },
  {
   "cell_type": "code",
   "execution_count": 198,
   "metadata": {},
   "outputs": [
    {
     "name": "stdout",
     "output_type": "stream",
     "text": [
      "mean: 60.88413415993031\n",
      "standard_deviation: 18.411824265661494\n",
      "minimum: 3.3820836824389326\n",
      "maximum: 100.43579300336947\n"
     ]
    }
   ],
   "source": [
    "mean_of_weights= data.weight.mean()\n",
    "standard_deviation_of_weights= data.weight.std()\n",
    "minimum_of_weights= data.weight.min()\n",
    "maximum_of_weights= data.weight.max()\n",
    "print(f'mean: {mean_of_weights}')\n",
    "print(f'standard_deviation: {standard_deviation_of_weights}')\n",
    "print(f'minimum: {minimum_of_weights}')\n",
    "print(f'maximum: {maximum_of_weights}')"
   ]
  },
  {
   "cell_type": "markdown",
   "metadata": {},
   "source": [
    "#### Plot histogram of the distribution with an appropriate number of bins for the size of the dataset"
   ]
  },
  {
   "cell_type": "code",
   "execution_count": 227,
   "metadata": {},
   "outputs": [
    {
     "name": "stdout",
     "output_type": "stream",
     "text": [
      "bin_number: 196\n"
     ]
    }
   ],
   "source": [
    "q25,q75 = np.percentile(data.weight, [25, 75])\n",
    "bin_width_weight = 2 * (q75 - q25) * len(data.weight) ** (-1/3)\n",
    "bins_weight = round((maximum_of_weights - minimum_of_weights) / bin_width_weight)\n",
    "print(f'bin_number: {bins}')"
   ]
  },
  {
   "cell_type": "code",
   "execution_count": 200,
   "metadata": {},
   "outputs": [
    {
     "data": {
      "image/png": "[encoded data removed]",
      "text/plain": [
       "<Figure size 640x480 with 1 Axes>"
      ]
     },
     "metadata": {},
     "output_type": "display_data"
    },
    {
     "data": {
      "text/plain": [
       "<ggplot: (8789191243216)>"
      ]
     },
     "execution_count": 200,
     "metadata": {},
     "output_type": "execute_result"
    }
   ],
   "source": [
    "(ggplot(data, aes(x='weight'))\n",
    " + geom_histogram(binwidth=bin_width_weight,\n",
    "                 fill='purple',\n",
    "                 colour='white',\n",
    "                 size=0.2,\n",
    "                 alpha=0.6\n",
    "                 )\n",
    " + theme_xkcd()\n",
    ")"
   ]
  },
  {
   "cell_type": "markdown",
   "metadata": {},
   "source": [
    "##### specifying regions for patterns"
   ]
  },
  {
   "cell_type": "code",
   "execution_count": 511,
   "metadata": {},
   "outputs": [
    {
     "data": {
      "text/plain": [
       "68.000000    22613\n",
       "73.104595        1\n",
       "54.951453        1\n",
       "35.978364        1\n",
       "71.831014        1\n",
       "             ...  \n",
       "61.768055        1\n",
       "66.071491        1\n",
       "59.401400        1\n",
       "39.040271        1\n",
       "59.042765        1\n",
       "Name: weight, Length: 129749, dtype: int64"
      ]
     },
     "execution_count": 511,
     "metadata": {},
     "output_type": "execute_result"
    }
   ],
   "source": [
    "data['weight'].value_counts()"
   ]
  },
  {
   "cell_type": "markdown",
   "metadata": {},
   "source": [
    "#### Comment on any outliers or patterns: According to the distribution shown on histogram, those with weight lower than 50 has a rather leveled and low counts, while for those with weight greater than 50 has a distribution similar to standard distribution,except for the outlier when weight equals to 68.0 (rounded) with count of 27842."
   ]
  },
  {
   "cell_type": "markdown",
   "metadata": {},
   "source": [
    "#### Scatter plot of weights vs. ages"
   ]
  },
  {
   "cell_type": "code",
   "execution_count": 512,
   "metadata": {},
   "outputs": [
    {
     "data": {
      "text/plain": [
       "[Text(0.5, 1.0, 'weight vs. age'), Text(0.5, 0, 'age'), Text(0, 0.5, 'weight')]"
      ]
     },
     "execution_count": 512,
     "metadata": {},
     "output_type": "execute_result"
    },
    {
     "data": {
      "image/png": "[encoded data removed]",
      "text/plain": [
       "<Figure size 432x288 with 1 Axes>"
      ]
     },
     "metadata": {
      "needs_background": "light"
     },
     "output_type": "display_data"
    }
   ],
   "source": [
    "plt.scatter(x= data.age, y= data.weight, c= 'blue',edgecolors='white')\n",
    "plt.gca().update(dict(title='weight vs. age', xlabel='age', ylabel='weight'))"
   ]
  },
  {
   "cell_type": "markdown",
   "metadata": {},
   "source": [
    "##### General relationship between the two variables: their relationship is generally following a positive trend. For weight lower than 40, the relationship between two variables are strongly positive;however, after weight=40, the relationship follows a weakly positive trend, with points strongly scattered."
   ]
  },
  {
   "cell_type": "markdown",
   "metadata": {},
   "source": [
    "#### The outlier that doesn't follow relationship:"
   ]
  },
  {
   "cell_type": "code",
   "execution_count": 346,
   "metadata": {},
   "outputs": [
    {
     "data": {
      "text/html": [
       "<div>\n",
       "<style scoped>\n",
       "    .dataframe tbody tr th:only-of-type {\n",
       "        vertical-align: middle;\n",
       "    }\n",
       "\n",
       "    .dataframe tbody tr th {\n",
       "        vertical-align: top;\n",
       "    }\n",
       "\n",
       "    .dataframe thead th {\n",
       "        text-align: right;\n",
       "    }\n",
       "</style>\n",
       "<table border=\"1\" class=\"dataframe\">\n",
       "  <thead>\n",
       "    <tr style=\"text-align: right;\">\n",
       "      <th></th>\n",
       "      <th>name</th>\n",
       "      <th>age</th>\n",
       "      <th>weight</th>\n",
       "      <th>eyecolor</th>\n",
       "    </tr>\n",
       "  </thead>\n",
       "  <tbody>\n",
       "    <tr>\n",
       "      <th>537</th>\n",
       "      <td>Anthony Freeman</td>\n",
       "      <td>41.3</td>\n",
       "      <td>21.7</td>\n",
       "      <td>green</td>\n",
       "    </tr>\n",
       "  </tbody>\n",
       "</table>\n",
       "</div>"
      ],
      "text/plain": [
       "                name   age  weight eyecolor\n",
       "537  Anthony Freeman  41.3    21.7    green"
      ]
     },
     "execution_count": 346,
     "metadata": {},
     "output_type": "execute_result"
    }
   ],
   "source": [
    "data[(data['age']>40)& (data['age']<42) &(data['weight']>20) &(data['weight']<22)]"
   ]
  },
  {
   "cell_type": "markdown",
   "metadata": {},
   "source": [
    "##### The outlier's name is Anthony Freeman.\n",
    "##### Visualizing the scatter plot that demonstrates the relationship of weight and age allows the selection of the outlier-->According to it's rough ranges of the coordinations for the outlier shown on the plot, as shown above in code [346],the person was identified. "
   ]
  }
 ],
 "metadata": {
  "kernelspec": {
   "display_name": "Python 3",
   "language": "python",
   "name": "python3"
  },
  "language_info": {
   "codemirror_mode": {
    "name": "ipython",
    "version": 3
   },
   "file_extension": ".py",
   "mimetype": "text/x-python",
   "name": "python",
   "nbconvert_exporter": "python",
   "pygments_lexer": "ipython3",
   "version": "3.8.5"
  }
 },
 "nbformat": 4,
 "nbformat_minor": 4
}
