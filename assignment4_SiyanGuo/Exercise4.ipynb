{
 "cells": [
  {
   "cell_type": "code",
   "execution_count": 1,
   "metadata": {},
   "outputs": [],
   "source": [
    "import numpy as np\n",
    "import itertools"
   ]
  },
  {
   "cell_type": "code",
   "execution_count": 20,
   "metadata": {},
   "outputs": [],
   "source": [
    "def create_matrix(seq1,seq2,match=1,gap_penalty=1,mismatch_penalty=1):\n",
    "    matrix=np.zeros((len(seq1) + 1, len(seq2) + 1), np.int)\n",
    "    matrix_letter=np.zeros((len(seq1) + 1, len(seq2) + 1), np.str)\n",
    "    letter_list=['i','l','u','0']\n",
    "    for i,j in itertools.product(range(1,matrix.shape[0]),range(1,matrix.shape[1])):\n",
    "        if seq1[i-1]==seq2[j-1]:\n",
    "            match_score=matrix[i-1,j-1]+match\n",
    "        else:\n",
    "            match_score=matrix[i-1,j-1]-mismatch_penalty\n",
    "            \n",
    "        left_gap_penalty=matrix[i, j-1]-gap_penalty\n",
    "        up_gap_penalty=matrix[i-1,j]-gap_penalty\n",
    "        \n",
    "        value_list=[match_score,left_gap_penalty,up_gap_penalty,0]\n",
    "        matrix[i,j]=max(value_list)\n",
    "        index=value_list.index(max(value_list))\n",
    "        matrix_letter[i,j]=letter_list[index]\n",
    "        \n",
    "    return matrix, matrix_letter"
   ]
  },
  {
   "cell_type": "code",
   "execution_count": 21,
   "metadata": {},
   "outputs": [],
   "source": [
    "def traceback(matrix,matrix_letter,seq1,seq2):\n",
    "    x,y= np.where(matrix == np.amax(matrix))\n",
    "    x = x[0]\n",
    "    y = y[0]\n",
    "    subseq1 = ''\n",
    "    subseq2 = ''\n",
    "    while matrix[x,y]!=0:\n",
    "        if matrix_letter[x,y]=='i': #upper-left\n",
    "            subseq1 = seq1[x-1] + subseq1\n",
    "            subseq2 = seq2[y-1] + subseq2\n",
    "            x -= 1\n",
    "            y -= 1\n",
    "        elif matrix_letter[x,y]=='l':#left\n",
    "            subseq1 = '-' + subseq1\n",
    "            subseq2 = seq2[y-1] + subseq2\n",
    "            y -= 1\n",
    "        elif matrix_letter[x,y]=='u':#up\n",
    "            subseq1 = seq1[x-1] + subseq1\n",
    "            subseq2 = '-' + subseq2\n",
    "            x -= 1\n",
    "        else:\n",
    "            subseq1 = seq1[x-1] + subseq1\n",
    "            subseq2 = seq2[y-1] + subseq2\n",
    "            x -= 1\n",
    "            y -= 1\n",
    "    return subseq1, subseq2, matrix.max()"
   ]
  },
  {
   "cell_type": "code",
   "execution_count": 22,
   "metadata": {},
   "outputs": [],
   "source": [
    "def align(seq1,seq2,match=1,gap_penalty=1,mismatch_penalty=1):\n",
    "    matrix, matrix_letter=create_matrix(seq1=seq1,seq2=seq2,match=match,gap_penalty=gap_penalty,mismatch_penalty=mismatch_penalty)\n",
    "    subseq1, subseq2, score=traceback(matrix,matrix_letter,seq1,seq2)\n",
    "    return subseq1, subseq2, score"
   ]
  },
  {
   "cell_type": "code",
   "execution_count": 36,
   "metadata": {},
   "outputs": [],
   "source": [
    "seq1, seq2, score = align('tgcatcgagaccctacgtgac', 'actagacctagcatcgac') #test1"
   ]
  },
  {
   "cell_type": "code",
   "execution_count": 41,
   "metadata": {},
   "outputs": [
    {
     "name": "stdout",
     "output_type": "stream",
     "text": [
      "First substring for local alignment is agacccta-cgt-gac, and the second substring for local alignment is aga-cctagcatcgac with the score of 8.\n"
     ]
    }
   ],
   "source": [
    "print('First substring for local alignment is {}, and the second substring for local alignment is {} with the score of {}.'.format(seq1,seq2,score))"
   ]
  },
  {
   "cell_type": "code",
   "execution_count": 43,
   "metadata": {},
   "outputs": [],
   "source": [
    "seq1, seq2, score = align('tgcatcgagaccctacgtgac', 'actagacctagcatcgac', gap_penalty=2) #test2"
   ]
  },
  {
   "cell_type": "code",
   "execution_count": 44,
   "metadata": {},
   "outputs": [
    {
     "name": "stdout",
     "output_type": "stream",
     "text": [
      "First substring for local alignment is gcatcga, and the second substring for local alignment is gcatcga with the score of 7.\n"
     ]
    }
   ],
   "source": [
    "print('First substring for local alignment is {}, and the second substring for local alignment is {} with the score of {}.'.format(seq1,seq2,score))"
   ]
  },
  {
   "cell_type": "code",
   "execution_count": 50,
   "metadata": {},
   "outputs": [],
   "source": [
    "seq1, seq2, score = align('tgcatcgagaccctacgtgac', 'actagacctagcatcgac', gap_penalty=8,mismatch_penalty=1,match=1) #with bigger value of gap penalty"
   ]
  },
  {
   "cell_type": "code",
   "execution_count": 51,
   "metadata": {},
   "outputs": [
    {
     "name": "stdout",
     "output_type": "stream",
     "text": [
      "First substring for local alignment is gcatcga, and the second substring for local alignment is gcatcga with the score of 7.\n"
     ]
    }
   ],
   "source": [
    "print('First substring for local alignment is {}, and the second substring for local alignment is {} with the score of {}.'.format(seq1,seq2,score))"
   ]
  },
  {
   "cell_type": "code",
   "execution_count": 60,
   "metadata": {},
   "outputs": [],
   "source": [
    "seq1, seq2, score = align('tgcatcgagaccctacgtgac', 'actagacctagcatcgac', gap_penalty=1,mismatch_penalty=8,match=1) #with bigger value of mismatch penalty"
   ]
  },
  {
   "cell_type": "code",
   "execution_count": 61,
   "metadata": {},
   "outputs": [
    {
     "name": "stdout",
     "output_type": "stream",
     "text": [
      "First substring for local alignment is gcatcga, and the second substring for local alignment is gcatcga with the score of 7.\n"
     ]
    }
   ],
   "source": [
    "print('First substring for local alignment is {}, and the second substring for local alignment is {} with the score of {}.'.format(seq1,seq2,score))"
   ]
  },
  {
   "cell_type": "code",
   "execution_count": 62,
   "metadata": {},
   "outputs": [],
   "source": [
    "seq1, seq2, score = align('tgcatcgagaccctacgtgac', 'actagacctagcatcgac', gap_penalty=1,mismatch_penalty=1,match=8) #with bigger value of match "
   ]
  },
  {
   "cell_type": "code",
   "execution_count": 63,
   "metadata": {},
   "outputs": [
    {
     "name": "stdout",
     "output_type": "stream",
     "text": [
      "First substring for local alignment is atcgagacccta-cgt-gac, and the second substring for local alignment is a-ctaga-cctagcatcgac with the score of 106.\n"
     ]
    }
   ],
   "source": [
    "print('First substring for local alignment is {}, and the second substring for local alignment is {} with the score of {}.'.format(seq1,seq2,score))"
   ]
  },
  {
   "cell_type": "code",
   "execution_count": 70,
   "metadata": {},
   "outputs": [],
   "source": [
    "seq1, seq2, score = align('tgcatcgagaccctacgtgac', 'actagacctagcatcgac', gap_penalty=1,mismatch_penalty=5,match=5) #with bigger value of match and mismatch penalty"
   ]
  },
  {
   "cell_type": "code",
   "execution_count": 71,
   "metadata": {},
   "outputs": [
    {
     "name": "stdout",
     "output_type": "stream",
     "text": [
      "First substring for local alignment is atcg-agaccctacg--t-gac, and the second substring for local alignment is a-c-taga-ccta-gcatcgac with the score of 62.\n"
     ]
    }
   ],
   "source": [
    "print('First substring for local alignment is {}, and the second substring for local alignment is {} with the score of {}.'.format(seq1,seq2,score))"
   ]
  },
  {
   "cell_type": "code",
   "execution_count": 72,
   "metadata": {},
   "outputs": [],
   "source": [
    "seq1, seq2, score = align('tgcatcgagaccctacgtgac', 'actagacctagcatcgac', gap_penalty=5,mismatch_penalty=1,match=5) #with bigger value of match and gap penalty"
   ]
  },
  {
   "cell_type": "code",
   "execution_count": 73,
   "metadata": {},
   "outputs": [
    {
     "name": "stdout",
     "output_type": "stream",
     "text": [
      "First substring for local alignment is cgagacccta-cgt-gac, and the second substring for local alignment is ctaga-cctagcatcgac with the score of 48.\n"
     ]
    }
   ],
   "source": [
    "print('First substring for local alignment is {}, and the second substring for local alignment is {} with the score of {}.'.format(seq1,seq2,score))"
   ]
  },
  {
   "cell_type": "code",
   "execution_count": 74,
   "metadata": {},
   "outputs": [],
   "source": [
    "seq1, seq2, score = align('tgcatcgagaccctacgtgac', 'actagacctagcatcgac', gap_penalty=5,mismatch_penalty=5,match=1) #with bigger value of mismatch and gap penalty"
   ]
  },
  {
   "cell_type": "code",
   "execution_count": 75,
   "metadata": {},
   "outputs": [
    {
     "name": "stdout",
     "output_type": "stream",
     "text": [
      "First substring for local alignment is gcatcga, and the second substring for local alignment is gcatcga with the score of 7.\n"
     ]
    }
   ],
   "source": [
    "print('First substring for local alignment is {}, and the second substring for local alignment is {} with the score of {}.'.format(seq1,seq2,score))"
   ]
  },
  {
   "cell_type": "code",
   "execution_count": null,
   "metadata": {},
   "outputs": [],
   "source": []
  }
 ],
 "metadata": {
  "kernelspec": {
   "display_name": "Python 3",
   "language": "python",
   "name": "python3"
  },
  "language_info": {
   "codemirror_mode": {
    "name": "ipython",
    "version": 3
   },
   "file_extension": ".py",
   "mimetype": "text/x-python",
   "name": "python",
   "nbconvert_exporter": "python",
   "pygments_lexer": "ipython3",
   "version": "3.8.5"
  }
 },
 "nbformat": 4,
 "nbformat_minor": 4
}
