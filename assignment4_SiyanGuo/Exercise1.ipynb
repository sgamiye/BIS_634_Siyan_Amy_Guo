{
 "cells": [
  {
   "cell_type": "code",
   "execution_count": 1,
   "metadata": {},
   "outputs": [],
   "source": [
    "#Exercise 1"
   ]
  },
  {
   "cell_type": "code",
   "execution_count": 144,
   "metadata": {},
   "outputs": [],
   "source": [
    "import requests\n",
    "from tqdm import tqdm\n",
    "import pandas as pd\n",
    "from pandas.core.computation.check import NUMEXPR_INSTALLED\n",
    "from plotnine import *\n",
    "import numpy as np"
   ]
  },
  {
   "cell_type": "code",
   "execution_count": 132,
   "metadata": {},
   "outputs": [],
   "source": [
    "def get_error(a=0.001,b=0.001):\n",
    "    return float(requests.get(f\"http://ramcdougal.com/cgi-bin/error_function.py?a={a}&b={b}\", headers={\"User-Agent\": \"MyScript\"}).text)"
   ]
  },
  {
   "cell_type": "code",
   "execution_count": 133,
   "metadata": {},
   "outputs": [],
   "source": [
    "def optimal_a_b(a,b):\n",
    "    h=1e-10\n",
    "    scalar=0.1\n",
    "    stop=1e-5\n",
    "    new_a=a-scalar*((get_error(a+h,b)-get_error(a,b))/h)\n",
    "    new_b=b-scalar*((get_error(a,b+h)-get_error(a,b))/h)\n",
    "    while abs(get_error(new_a,new_b)-get_error(a,b))>stop:\n",
    "        a,b=new_a,new_b\n",
    "        new_a,new_b=new_a-scalar*((get_error(a+h,b)-get_error(a,b))/h),new_b-scalar*((get_error(a,b+h)-get_error(a,b))/h)\n",
    "    return new_a,new_b"
   ]
  },
  {
   "cell_type": "code",
   "execution_count": 134,
   "metadata": {},
   "outputs": [
    {
     "data": {
      "text/plain": [
       "(0.21000000082740372, 0.6600000297865336)"
      ]
     },
     "execution_count": 134,
     "metadata": {},
     "output_type": "execute_result"
    }
   ],
   "source": [
    "optimal_a_b(a=0.2,b=0.3)"
   ]
  },
  {
   "cell_type": "code",
   "execution_count": 146,
   "metadata": {},
   "outputs": [],
   "source": [
    "error_list=[]\n",
    "for a in [0.1,0.5,0.9]:\n",
    "    for b in [0.1,0.5,0.9]:\n",
    "        val=optimal_a_b(a,b)\n",
    "        error_list.append(val)"
   ]
  },
  {
   "cell_type": "code",
   "execution_count": 147,
   "metadata": {},
   "outputs": [],
   "source": [
    "error_lst=[]\n",
    "for pair in error_list:\n",
    "    error_lst.append(get_error(a=pair[0],b=pair[1]))"
   ]
  },
  {
   "cell_type": "code",
   "execution_count": 148,
   "metadata": {},
   "outputs": [
    {
     "data": {
      "text/plain": [
       "[1.1008769972,\n",
       " 1.10219699864,\n",
       " 1.10037699937,\n",
       " 1.00025499952,\n",
       " 1.10055699884,\n",
       " 1.10019699934,\n",
       " 1.00019499932,\n",
       " 1.00055499754,\n",
       " 1.10205699498]"
      ]
     },
     "execution_count": 148,
     "metadata": {},
     "output_type": "execute_result"
    }
   ],
   "source": [
    "error_lst"
   ]
  },
  {
   "cell_type": "code",
   "execution_count": 149,
   "metadata": {},
   "outputs": [],
   "source": [
    "data=pd.DataFrame(error_lst)"
   ]
  },
  {
   "cell_type": "code",
   "execution_count": 152,
   "metadata": {},
   "outputs": [],
   "source": [
    "plot=(ggplot(pd.DataFrame({'x':np.linspace(0,5,len(error_list)),'error':error_lst}), aes(x='x', y='error'))\n",
    " +geom_point())"
   ]
  },
  {
   "cell_type": "code",
   "execution_count": 153,
   "metadata": {},
   "outputs": [
    {
     "data": {
      "image/png": "[encoded data removed]",
      "text/plain": [
       "<Figure size 640x480 with 1 Axes>"
      ]
     },
     "metadata": {},
     "output_type": "display_data"
    },
    {
     "data": {
      "text/plain": [
       "<ggplot: (8774897292638)>"
      ]
     },
     "execution_count": 153,
     "metadata": {},
     "output_type": "execute_result"
    }
   ],
   "source": [
    "plot"
   ]
  },
  {
   "cell_type": "code",
   "execution_count": null,
   "metadata": {},
   "outputs": [],
   "source": []
  }
 ],
 "metadata": {
  "kernelspec": {
   "display_name": "Python 3",
   "language": "python",
   "name": "python3"
  },
  "language_info": {
   "codemirror_mode": {
    "name": "ipython",
    "version": 3
   },
   "file_extension": ".py",
   "mimetype": "text/x-python",
   "name": "python",
   "nbconvert_exporter": "python",
   "pygments_lexer": "ipython3",
   "version": "3.8.5"
  }
 },
 "nbformat": 4,
 "nbformat_minor": 4
}
