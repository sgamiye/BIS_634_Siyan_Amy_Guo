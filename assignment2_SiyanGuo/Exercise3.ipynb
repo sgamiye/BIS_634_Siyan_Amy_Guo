{
 "cells": [
  {
   "cell_type": "code",
   "execution_count": 2,
   "metadata": {},
   "outputs": [],
   "source": [
    "import random\n",
    "import numpy as np\n",
    "from timeit import default_timer as timer\n",
    "import plotnine as p9\n",
    "import pandas as pd"
   ]
  },
  {
   "cell_type": "code",
   "execution_count": 3,
   "metadata": {},
   "outputs": [],
   "source": [
    "class Tree:\n",
    "    def __init__(self,valueInput=None):\n",
    "        self.value = valueInput\n",
    "        self.left = None\n",
    "        self.right = None\n",
    "    \n",
    "    def add(self,valueInput):\n",
    "        if self.value is None:\n",
    "            self.value = valueInput\n",
    "        else:\n",
    "            if self.value <= valueInput:\n",
    "                if self.right is None:\n",
    "                    self.right=Tree(valueInput)\n",
    "                else:\n",
    "                    self.right.add(valueInput)\n",
    "            else:\n",
    "                if self.left is None:\n",
    "                    self.left=Tree(valueInput)\n",
    "                else:\n",
    "                    self.left.add(valueInput)\n",
    "        return Tree\n",
    "    def __contains__(self, valueInput):\n",
    "        if self.value == valueInput:\n",
    "                return True\n",
    "        elif self.left and valueInput < self.value:\n",
    "            return valueInput in self.left\n",
    "        elif self.right and valueInput > self.value:\n",
    "            return valueInput in self.right\n",
    "        else:\n",
    "            return False"
   ]
  },
  {
   "cell_type": "code",
   "execution_count": 4,
   "metadata": {},
   "outputs": [],
   "source": [
    "my_tree = Tree()"
   ]
  },
  {
   "cell_type": "code",
   "execution_count": 5,
   "metadata": {},
   "outputs": [],
   "source": [
    "for item in [55, 62, 37, 49, 71, 14, 17]:\n",
    "    my_tree.add(item)"
   ]
  },
  {
   "cell_type": "code",
   "execution_count": 6,
   "metadata": {},
   "outputs": [
    {
     "data": {
      "text/plain": [
       "True"
      ]
     },
     "execution_count": 6,
     "metadata": {},
     "output_type": "execute_result"
    }
   ],
   "source": [
    "55 in my_tree "
   ]
  },
  {
   "cell_type": "code",
   "execution_count": 7,
   "metadata": {},
   "outputs": [
    {
     "data": {
      "text/plain": [
       "False"
      ]
     },
     "execution_count": 7,
     "metadata": {},
     "output_type": "execute_result"
    }
   ],
   "source": [
    "42 in my_tree"
   ]
  },
  {
   "cell_type": "code",
   "execution_count": 8,
   "metadata": {},
   "outputs": [],
   "source": [
    "rand_list=[]\n",
    "time_add_list=[]\n",
    "time_list=[]\n",
    "for i in np.logspace(0,5).astype(int):\n",
    "    tree=Tree()\n",
    "    rand_list.append(random.randint(0,i))\n",
    "    start_add=timer()\n",
    "    for items in rand_list:\n",
    "        tree.add(items)\n",
    "    end_add=timer()\n",
    "    time_add=end_add-start_add\n",
    "    time_add_list.append(time_add)\n",
    "    start = timer()\n",
    "    for num_check in rand_list:\n",
    "        items in tree\n",
    "    end = timer()\n",
    "    time=end-start\n",
    "    time_list.append(time)"
   ]
  },
  {
   "cell_type": "code",
   "execution_count": 9,
   "metadata": {},
   "outputs": [
    {
     "data": {
      "text/plain": [
       "50"
      ]
     },
     "execution_count": 9,
     "metadata": {},
     "output_type": "execute_result"
    }
   ],
   "source": [
    "len(rand_list)"
   ]
  },
  {
   "cell_type": "code",
   "execution_count": 10,
   "metadata": {},
   "outputs": [
    {
     "data": {
      "text/plain": [
       "50"
      ]
     },
     "execution_count": 10,
     "metadata": {},
     "output_type": "execute_result"
    }
   ],
   "source": [
    "len(time_list)"
   ]
  },
  {
   "cell_type": "code",
   "execution_count": 11,
   "metadata": {},
   "outputs": [],
   "source": [
    "plot_size_in=(p9.ggplot(pd.DataFrame({'run_time':time_list,'size':rand_list}),p9.aes(x='size',y='run_time'))\n",
    "          +p9.geom_line()\n",
    "          +p9.geom_abline(intercept=-5.5,slope=1)\n",
    "          +p9.scale_x_log10()\n",
    "          +p9.scale_y_log10(limits = [1e-6,1e4])\n",
    "          )"
   ]
  },
  {
   "cell_type": "code",
   "execution_count": 12,
   "metadata": {},
   "outputs": [
    {
     "name": "stderr",
     "output_type": "stream",
     "text": [
      "/Users/amygdk/opt/anaconda3/lib/python3.8/site-packages/pandas/core/series.py:726: RuntimeWarning: divide by zero encountered in log10\n"
     ]
    },
    {
     "data": {
      "image/png": "[encoded data removed]",
      "text/plain": [
       "<Figure size 640x480 with 1 Axes>"
      ]
     },
     "metadata": {},
     "output_type": "display_data"
    },
    {
     "data": {
      "text/plain": [
       "<ggplot: (8771174860867)>"
      ]
     },
     "execution_count": 12,
     "metadata": {},
     "output_type": "execute_result"
    }
   ],
   "source": [
    "plot_size_in"
   ]
  },
  {
   "cell_type": "code",
   "execution_count": 13,
   "metadata": {},
   "outputs": [],
   "source": [
    "plot_size_setup=(p9.ggplot(pd.DataFrame({'run_time':time_add_list,'size':rand_list}),p9.aes(x='size',y='run_time'))\n",
    "          +p9.geom_line()\n",
    "          +p9.stat_function(fun=lambda x: x**2-10)\n",
    "          +p9.geom_abline(intercept=-10,slope=1)\n",
    "          +p9.scale_x_log10(limits = [1e0,1e5])\n",
    "          +p9.scale_y_log10(limits = [1e-6,1e7])\n",
    "          )"
   ]
  },
  {
   "cell_type": "code",
   "execution_count": 14,
   "metadata": {},
   "outputs": [
    {
     "name": "stderr",
     "output_type": "stream",
     "text": [
      "/Users/amygdk/opt/anaconda3/lib/python3.8/site-packages/pandas/core/series.py:726: RuntimeWarning: divide by zero encountered in log10\n",
      "/Users/amygdk/opt/anaconda3/lib/python3.8/site-packages/plotnine/geoms/geom_path.py:75: PlotnineWarning: geom_path: Removed 95 rows containing missing values.\n"
     ]
    },
    {
     "data": {
      "image/png": "[encoded data removed]",
      "text/plain": [
       "<Figure size 640x480 with 1 Axes>"
      ]
     },
     "metadata": {},
     "output_type": "display_data"
    },
    {
     "data": {
      "text/plain": [
       "<ggplot: (8771175143063)>"
      ]
     },
     "execution_count": 14,
     "metadata": {},
     "output_type": "execute_result"
    }
   ],
   "source": [
    "plot_size_setup"
   ]
  }
 ],
 "metadata": {
  "kernelspec": {
   "display_name": "Python 3",
   "language": "python",
   "name": "python3"
  },
  "language_info": {
   "codemirror_mode": {
    "name": "ipython",
    "version": 3
   },
   "file_extension": ".py",
   "mimetype": "text/x-python",
   "name": "python",
   "nbconvert_exporter": "python",
   "pygments_lexer": "ipython3",
   "version": "3.8.5"
  }
 },
 "nbformat": 4,
 "nbformat_minor": 4
}
