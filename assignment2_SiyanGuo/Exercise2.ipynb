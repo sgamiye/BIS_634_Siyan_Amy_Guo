{
 "cells": [
  {
   "cell_type": "code",
   "execution_count": 227,
   "metadata": {},
   "outputs": [],
   "source": [
    "from hashlib import sha3_256,sha256,blake2b\n",
    "import bitarray\n",
    "import pandas as pd\n",
    "import numpy as np\n",
    "import plotnine as p9\n",
    "from plotnine import * \n",
    "from tqdm import tqdm"
   ]
  },
  {
   "cell_type": "code",
   "execution_count": 2,
   "metadata": {},
   "outputs": [],
   "source": [
    "word_list=[]\n",
    "with open('./words.txt')as f:\n",
    "    count=0\n",
    "    for line in f:\n",
    "        words=line.strip() #do we have to strip out the numbers\n",
    "        count+=1 #for size of the bitarray\n",
    "        word_list.append(words)"
   ]
  },
  {
   "cell_type": "code",
   "execution_count": 3,
   "metadata": {},
   "outputs": [],
   "source": [
    "import json"
   ]
  },
  {
   "cell_type": "code",
   "execution_count": 4,
   "metadata": {},
   "outputs": [],
   "source": [
    "with open ('./typos.json') as jsonfile:\n",
    "    jf=json.load(jsonfile)"
   ]
  },
  {
   "cell_type": "code",
   "execution_count": 5,
   "metadata": {},
   "outputs": [],
   "source": [
    "def my_hash(item,bloomf_size):#provided hash functions \n",
    "    return int(sha256(item.lower().encode()).hexdigest(),16)%bloomf_size\n",
    "def my_hash2(item,bloomf_size):\n",
    "    return int(blake2b(item.lower().encode()).hexdigest(),16)%bloomf_size\n",
    "def my_hash3(item,bloomf_size):\n",
    "    return int(sha3_256(item.lower().encode()).hexdigest(),16)%bloomf_size"
   ]
  },
  {
   "cell_type": "code",
   "execution_count": null,
   "metadata": {},
   "outputs": [],
   "source": [
    "#creating bloom filters for the use of one, two and three hash functions "
   ]
  },
  {
   "cell_type": "code",
   "execution_count": 6,
   "metadata": {},
   "outputs": [
    {
     "name": "stderr",
     "output_type": "stream",
     "text": [
      "100%|██████████| 10/10 [00:08<00:00,  1.22it/s]\n"
     ]
    }
   ],
   "source": [
    "bfs1=[]#bloomfilter inserted by values from one hash function\n",
    "for power in tqdm(range(10)):\n",
    "    bloomfilter=bitarray.bitarray(pow(10,power))\n",
    "    bloomfilter.setall(0)\n",
    "    hashes=[]\n",
    "    for word in word_list:\n",
    "        hash=my_hash(word,pow(10,power))\n",
    "        hashes.append(hash)\n",
    "    for a in hashes:\n",
    "        bloomfilter[a]=True\n",
    "    bfs1.append(bloomfilter)"
   ]
  },
  {
   "cell_type": "code",
   "execution_count": 72,
   "metadata": {},
   "outputs": [
    {
     "name": "stderr",
     "output_type": "stream",
     "text": [
      "100%|██████████| 10/10 [00:07<00:00,  1.32it/s]\n"
     ]
    }
   ],
   "source": [
    "bfs2=bfs1.copy() #bloomfilter inserted by values from two hash functions \n",
    "for power in tqdm(range(10)):\n",
    "    hashes2=[]\n",
    "    for word in word_list:\n",
    "        hash2=my_hash2(word,pow(10,power))\n",
    "        hashes2.append(hash2)\n",
    "    for hash in hashes2:\n",
    "        bfs2[power][hash]=True"
   ]
  },
  {
   "cell_type": "code",
   "execution_count": 79,
   "metadata": {},
   "outputs": [
    {
     "name": "stderr",
     "output_type": "stream",
     "text": [
      "100%|██████████| 10/10 [00:07<00:00,  1.27it/s]\n"
     ]
    }
   ],
   "source": [
    "bfs3=bfs2.copy()#bloomfilter inserted by values from three hash functions \n",
    "for power in tqdm(range(10)):\n",
    "    hashes3=[]\n",
    "    for word in word_list:\n",
    "        hash3=my_hash3(word,pow(10,power))\n",
    "        hashes3.append(hash3)\n",
    "    for hash_val in hashes3:\n",
    "        bfs3[power][hash_val]=True"
   ]
  },
  {
   "cell_type": "code",
   "execution_count": 7,
   "metadata": {},
   "outputs": [],
   "source": [
    "def substitution_list(input): #creating substitution list for preping spelling_correction functions\n",
    "    subset=[]\n",
    "    for position in range (len(list(input))):\n",
    "        for letter in list('abcdefghijklmnopqrstuvwxyz'):\n",
    "            sub=input[:position]+letter+input[position+1:]\n",
    "            subset.append(sub)\n",
    "    return subset"
   ]
  },
  {
   "cell_type": "code",
   "execution_count": 70,
   "metadata": {},
   "outputs": [],
   "source": [
    "def spelling_correction1(input,size): #spelling correction for 1 hash function with a certain size\n",
    "    typed_sublist=substitution_list(input)\n",
    "    hashes_sub=[]\n",
    "    sub_list=[]\n",
    "    for sub in typed_sublist:\n",
    "        hashval_sub=my_hash(sub,size)\n",
    "        hashes_sub.append(hashval_sub)\n",
    "        if bfs1[np.log10(size).astype(int)][hashval_sub]==True:\n",
    "            suggestion=typed_sublist[hashes_sub.index(hashval_sub)]\n",
    "            sub_list.append(suggestion)\n",
    "    return sub_list"
   ]
  },
  {
   "cell_type": "code",
   "execution_count": 117,
   "metadata": {},
   "outputs": [],
   "source": [
    "word='floeer'"
   ]
  },
  {
   "cell_type": "code",
   "execution_count": 71,
   "metadata": {},
   "outputs": [
    {
     "data": {
      "text/plain": [
       "['bloeer',\n",
       " 'qloeer',\n",
       " 'fyoeer',\n",
       " 'flofer',\n",
       " 'floter',\n",
       " 'flower',\n",
       " 'floeqr',\n",
       " 'floees']"
      ]
     },
     "execution_count": 71,
     "metadata": {},
     "output_type": "execute_result"
    }
   ],
   "source": [
    "spelling_correction1(word,size=10000000) #self-check"
   ]
  },
  {
   "cell_type": "code",
   "execution_count": 73,
   "metadata": {},
   "outputs": [],
   "source": [
    "def spelling_correction2(input,size): #spelling correction for 2 hash functions with a certain size\n",
    "    typed_sublist=substitution_list(input)\n",
    "    hashes_sub=[]\n",
    "    hashes_sub2=[]\n",
    "    sub_list=[]\n",
    "    for sub in typed_sublist:\n",
    "        hashval_sub=my_hash(sub,size)\n",
    "        hashval_sub2=my_hash2(sub,size)\n",
    "        hashes_sub.append(hashval_sub)\n",
    "        hashes_sub2.append(hashval_sub2)\n",
    "        if ((bfs2[np.log10(size).astype(int)][hashval_sub]==True) and (bfs2[np.log10(size).astype(int)][hashval_sub2]==True)) :\n",
    "            suggestion=typed_sublist[hashes_sub.index(hashval_sub)]\n",
    "            sub_list.append(suggestion)\n",
    "    return sub_list"
   ]
  },
  {
   "cell_type": "code",
   "execution_count": 78,
   "metadata": {},
   "outputs": [
    {
     "data": {
      "text/plain": [
       "['fyoeer', 'floter', 'flower']"
      ]
     },
     "execution_count": 78,
     "metadata": {},
     "output_type": "execute_result"
    }
   ],
   "source": [
    "spelling_correction2(word,10000000) #self-check"
   ]
  },
  {
   "cell_type": "code",
   "execution_count": 84,
   "metadata": {},
   "outputs": [],
   "source": [
    "def spelling_correction3(input,size): #spelling correction for 3 hash functions with a certain size\n",
    "    typed_sublist=substitution_list(input)\n",
    "    hashes_sub=[]\n",
    "    hashes_sub2=[]\n",
    "    hashes_sub3=[]\n",
    "    sub_list=[]\n",
    "    for sub in typed_sublist:\n",
    "        hashval_sub=my_hash(sub,size)\n",
    "        hashval_sub2=my_hash2(sub,size)\n",
    "        hashval_sub3=my_hash3(sub,size)\n",
    "        hashes_sub.append(hashval_sub)\n",
    "        hashes_sub2.append(hashval_sub2)\n",
    "        hashes_sub3.append(hashval_sub3)\n",
    "        if ((bfs3[np.log10(size).astype(int)][hashval_sub]==True) and (bfs3[np.log10(size).astype(int)][hashval_sub2]==True) and (bfs3[np.log10(size).astype(int)][hashval_sub3]==True)) :\n",
    "            suggestion=typed_sublist[hashes_sub.index(hashval_sub)]\n",
    "            sub_list.append(suggestion)\n",
    "    return sub_list"
   ]
  },
  {
   "cell_type": "code",
   "execution_count": 86,
   "metadata": {},
   "outputs": [
    {
     "data": {
      "text/plain": [
       "['floter', 'flower']"
      ]
     },
     "execution_count": 86,
     "metadata": {},
     "output_type": "execute_result"
    }
   ],
   "source": [
    "spelling_correction3(word,10000000) #self-check"
   ]
  },
  {
   "cell_type": "code",
   "execution_count": 103,
   "metadata": {},
   "outputs": [],
   "source": [
    "#plotting the effect of the size of the filter together with the choice of just the first, the first two, or all three of the above hash functions on the number of words misidentified "
   ]
  },
  {
   "cell_type": "code",
   "execution_count": 129,
   "metadata": {},
   "outputs": [
    {
     "name": "stderr",
     "output_type": "stream",
     "text": [
      "100%|██████████| 10/10 [01:18<00:00,  7.84s/it]\n"
     ]
    }
   ],
   "source": [
    "mis_list1=[] #misidentification list from performing one hash function\n",
    "good_suggestions1=[] #good suggestion list from performing one hash function\n",
    "for power in tqdm(range(10)):\n",
    "    miscount1=0\n",
    "    good_suggestion1=0\n",
    "    bloom= bfs1[power]\n",
    "    for typed_word, true_word in jf:\n",
    "        hashval1=my_hash(typed_word, pow(10,power))\n",
    "        if bloom[hashval1]:\n",
    "            if typed_word != true_word:\n",
    "                miscount1 += 1\n",
    "        else:\n",
    "            corrections1 = spelling_correction1(typed_word, pow(10, power))\n",
    "            if true_word in corrections1 and len(corrections1) <= 3:\n",
    "                good_suggestion1 += 1\n",
    "    good_suggestions1.append(good_suggestion1)\n",
    "    mis_list1.append(miscount1)"
   ]
  },
  {
   "cell_type": "code",
   "execution_count": 130,
   "metadata": {},
   "outputs": [
    {
     "data": {
      "text/plain": [
       "[0, 0, 0, 0, 0, 0, 0, 0, 8012, 23333]"
      ]
     },
     "execution_count": 130,
     "metadata": {},
     "output_type": "execute_result"
    }
   ],
   "source": [
    "good_suggestions1 #good suggestions counts for 10 sizes with one hash function usage"
   ]
  },
  {
   "cell_type": "code",
   "execution_count": 189,
   "metadata": {},
   "outputs": [],
   "source": [
    "good_suggestion1_perc=[i*100 /(len(jf)*0.5)for i in good_suggestions1] #converting good suggestions counts into percentage "
   ]
  },
  {
   "cell_type": "code",
   "execution_count": 190,
   "metadata": {},
   "outputs": [
    {
     "data": {
      "text/plain": [
       "[0.0, 0.0, 0.0, 0.0, 0.0, 0.0, 0.0, 0.0, 32.048, 93.332]"
      ]
     },
     "execution_count": 190,
     "metadata": {},
     "output_type": "execute_result"
    }
   ],
   "source": [
    "good_suggestion1_perc"
   ]
  },
  {
   "cell_type": "code",
   "execution_count": 132,
   "metadata": {},
   "outputs": [
    {
     "data": {
      "text/plain": [
       "[25000, 25000, 25000, 25000, 25000, 25000, 18838, 3224, 333, 29]"
      ]
     },
     "execution_count": 132,
     "metadata": {},
     "output_type": "execute_result"
    }
   ],
   "source": [
    "mis_list1 #misidentification counts for 10 sizes with one hash function usage"
   ]
  },
  {
   "cell_type": "code",
   "execution_count": 191,
   "metadata": {},
   "outputs": [],
   "source": [
    "mis_list1_perc=[i*100 /(len(jf)*0.5)for i in mis_list1] # converting misidentification counts into percentage"
   ]
  },
  {
   "cell_type": "code",
   "execution_count": 192,
   "metadata": {},
   "outputs": [
    {
     "data": {
      "text/plain": [
       "[100.0, 100.0, 100.0, 100.0, 100.0, 100.0, 75.352, 12.896, 1.332, 0.116]"
      ]
     },
     "execution_count": 192,
     "metadata": {},
     "output_type": "execute_result"
    }
   ],
   "source": [
    "mis_list1_perc"
   ]
  },
  {
   "cell_type": "code",
   "execution_count": 143,
   "metadata": {},
   "outputs": [
    {
     "name": "stderr",
     "output_type": "stream",
     "text": [
      "100%|██████████| 10/10 [02:09<00:00, 12.97s/it]\n"
     ]
    }
   ],
   "source": [
    "mis_list2=[] #misidentification list from performing two hash functions\n",
    "good_suggestions2=[] #good suggestion list from performing two hash functions\n",
    "for power in tqdm(range(10)):\n",
    "    miscount2=0\n",
    "    good_suggestion2=0\n",
    "    bloom2= bfs2[power]\n",
    "    for typed_word, true_word in jf:\n",
    "        hashval1=my_hash(typed_word, pow(10,power))\n",
    "        hashval2=my_hash2(typed_word, pow(10,power))\n",
    "        if bloom2[hashval1] and bloom2[hashval2]:\n",
    "            if typed_word != true_word:\n",
    "                miscount2 += 1\n",
    "        else:\n",
    "            corrections2 = spelling_correction2(typed_word, pow(10, power))\n",
    "            if true_word in corrections2 and len(corrections2) <= 3:\n",
    "                good_suggestion2 += 1\n",
    "    good_suggestions2.append(good_suggestion2)\n",
    "    mis_list2.append(miscount2)"
   ]
  },
  {
   "cell_type": "code",
   "execution_count": 144,
   "metadata": {},
   "outputs": [
    {
     "data": {
      "text/plain": [
       "[0, 0, 0, 0, 0, 0, 0, 5360, 23679, 23702]"
      ]
     },
     "execution_count": 144,
     "metadata": {},
     "output_type": "execute_result"
    }
   ],
   "source": [
    "good_suggestions2 #good suggestions counts for 10 sizes with two hash functions usage"
   ]
  },
  {
   "cell_type": "code",
   "execution_count": 193,
   "metadata": {},
   "outputs": [],
   "source": [
    "good_suggestion2_perc=[i*100 /(len(jf)*0.5)for i in good_suggestions2] #converting good suggestions counts into percentage "
   ]
  },
  {
   "cell_type": "code",
   "execution_count": 194,
   "metadata": {},
   "outputs": [
    {
     "data": {
      "text/plain": [
       "[0.0, 0.0, 0.0, 0.0, 0.0, 0.0, 0.0, 21.44, 94.716, 94.808]"
      ]
     },
     "execution_count": 194,
     "metadata": {},
     "output_type": "execute_result"
    }
   ],
   "source": [
    "good_suggestion2_perc"
   ]
  },
  {
   "cell_type": "code",
   "execution_count": 145,
   "metadata": {},
   "outputs": [
    {
     "data": {
      "text/plain": [
       "[25000, 25000, 25000, 25000, 25000, 25000, 14254, 408, 3, 0]"
      ]
     },
     "execution_count": 145,
     "metadata": {},
     "output_type": "execute_result"
    }
   ],
   "source": [
    "mis_list2 #misidentification counts for 10 sizes with two hash functions usage"
   ]
  },
  {
   "cell_type": "code",
   "execution_count": 195,
   "metadata": {},
   "outputs": [],
   "source": [
    "mis_list2_perc=[i*100 /(len(jf)*0.5)for i in mis_list2] # converting misidentification counts into percentage"
   ]
  },
  {
   "cell_type": "code",
   "execution_count": 196,
   "metadata": {},
   "outputs": [
    {
     "data": {
      "text/plain": [
       "[100.0, 100.0, 100.0, 100.0, 100.0, 100.0, 57.016, 1.632, 0.012, 0.0]"
      ]
     },
     "execution_count": 196,
     "metadata": {},
     "output_type": "execute_result"
    }
   ],
   "source": [
    "mis_list2_perc"
   ]
  },
  {
   "cell_type": "code",
   "execution_count": 146,
   "metadata": {},
   "outputs": [
    {
     "name": "stderr",
     "output_type": "stream",
     "text": [
      "100%|██████████| 10/10 [02:55<00:00, 17.56s/it]\n"
     ]
    }
   ],
   "source": [
    "mis_list3=[] #misidentification list from performing three hash functions\n",
    "good_suggestions3=[] #good suggestion list from performing three hash functions\n",
    "for power in tqdm(range(10)):\n",
    "    miscount3=0\n",
    "    good_suggestion3=0\n",
    "    bloom3= bfs3[power]\n",
    "    for typed_word, true_word in jf:\n",
    "        hashval1=my_hash(typed_word, pow(10,power))\n",
    "        hashval2=my_hash2(typed_word, pow(10,power))\n",
    "        hashval3=my_hash3(typed_word, pow(10,power))\n",
    "        if bloom3[hashval1] and bloom3[hashval2] and bloom3[hashval3]:\n",
    "            if typed_word != true_word:\n",
    "                miscount3 += 1\n",
    "        else:\n",
    "            corrections3 = spelling_correction3(typed_word, pow(10, power))\n",
    "            if true_word in corrections3 and len(corrections3) <= 3:\n",
    "                good_suggestion3 += 1\n",
    "    good_suggestions3.append(good_suggestion3)\n",
    "    mis_list3.append(miscount3)"
   ]
  },
  {
   "cell_type": "code",
   "execution_count": 148,
   "metadata": {},
   "outputs": [
    {
     "data": {
      "text/plain": [
       "[0, 0, 0, 0, 0, 0, 0, 22900, 23702, 23702]"
      ]
     },
     "execution_count": 148,
     "metadata": {},
     "output_type": "execute_result"
    }
   ],
   "source": [
    "good_suggestions3 #good suggestions counts for 10 sizes with three hash functions usage"
   ]
  },
  {
   "cell_type": "code",
   "execution_count": 197,
   "metadata": {},
   "outputs": [],
   "source": [
    "good_suggestion3_perc=[i*100 /(len(jf)*0.5)for i in good_suggestions3] #converting good suggestions counts into percentage "
   ]
  },
  {
   "cell_type": "code",
   "execution_count": 198,
   "metadata": {},
   "outputs": [
    {
     "data": {
      "text/plain": [
       "[0.0, 0.0, 0.0, 0.0, 0.0, 0.0, 0.0, 91.6, 94.808, 94.808]"
      ]
     },
     "execution_count": 198,
     "metadata": {},
     "output_type": "execute_result"
    }
   ],
   "source": [
    "good_suggestion3_perc"
   ]
  },
  {
   "cell_type": "code",
   "execution_count": 149,
   "metadata": {},
   "outputs": [
    {
     "data": {
      "text/plain": [
       "[25000, 25000, 25000, 25000, 25000, 25000, 10726, 51, 0, 0]"
      ]
     },
     "execution_count": 149,
     "metadata": {},
     "output_type": "execute_result"
    }
   ],
   "source": [
    "mis_list3 #misidentification counts for 10 sizes with three hash functions usage"
   ]
  },
  {
   "cell_type": "code",
   "execution_count": 201,
   "metadata": {},
   "outputs": [],
   "source": [
    "mis_list3_perc=[i*100 /(len(jf)*0.5)for i in mis_list3] # converting misidentification counts into percentage"
   ]
  },
  {
   "cell_type": "code",
   "execution_count": 202,
   "metadata": {},
   "outputs": [
    {
     "data": {
      "text/plain": [
       "[100.0, 100.0, 100.0, 100.0, 100.0, 100.0, 42.904, 0.204, 0.0, 0.0]"
      ]
     },
     "execution_count": 202,
     "metadata": {},
     "output_type": "execute_result"
    }
   ],
   "source": [
    "mis_list3_perc"
   ]
  },
  {
   "cell_type": "code",
   "execution_count": 224,
   "metadata": {},
   "outputs": [],
   "source": [
    "size_data=[i for i in np.power(10,range(10))]*3 #dataframe for plotting\n",
    "hash_option=['1']*10+['2']*10+['3']*10\n",
    "attributes=['mis_id_hash1perc']*10+['mis_id_hash2perc']*10+['mis_id_hash3perc']*10+['good_suggestions_hash1perc']*10+['good_suggestions_hash2perc']*10+['good_suggestions_hash3perc']*10\n",
    "plot_dataframe1=pd.DataFrame(data=zip(size_data*2,(mis_list1_perc+mis_list2_perc+mis_list3_perc+good_suggestion1_perc+good_suggestion2_perc+good_suggestion3_perc),hash_option*2,attributes),\n",
    "                             columns=['n_bits','percentage','hash_options','notes'])"
   ]
  },
  {
   "cell_type": "code",
   "execution_count": 226,
   "metadata": {},
   "outputs": [
    {
     "data": {
      "text/html": [
       "<div>\n",
       "<style scoped>\n",
       "    .dataframe tbody tr th:only-of-type {\n",
       "        vertical-align: middle;\n",
       "    }\n",
       "\n",
       "    .dataframe tbody tr th {\n",
       "        vertical-align: top;\n",
       "    }\n",
       "\n",
       "    .dataframe thead th {\n",
       "        text-align: right;\n",
       "    }\n",
       "</style>\n",
       "<table border=\"1\" class=\"dataframe\">\n",
       "  <thead>\n",
       "    <tr style=\"text-align: right;\">\n",
       "      <th></th>\n",
       "      <th>n_bits</th>\n",
       "      <th>percentage</th>\n",
       "      <th>hash_options</th>\n",
       "      <th>notes</th>\n",
       "    </tr>\n",
       "  </thead>\n",
       "  <tbody>\n",
       "    <tr>\n",
       "      <th>0</th>\n",
       "      <td>1</td>\n",
       "      <td>100.000</td>\n",
       "      <td>1</td>\n",
       "      <td>mis_id_hash1perc</td>\n",
       "    </tr>\n",
       "    <tr>\n",
       "      <th>1</th>\n",
       "      <td>10</td>\n",
       "      <td>100.000</td>\n",
       "      <td>1</td>\n",
       "      <td>mis_id_hash1perc</td>\n",
       "    </tr>\n",
       "    <tr>\n",
       "      <th>2</th>\n",
       "      <td>100</td>\n",
       "      <td>100.000</td>\n",
       "      <td>1</td>\n",
       "      <td>mis_id_hash1perc</td>\n",
       "    </tr>\n",
       "    <tr>\n",
       "      <th>3</th>\n",
       "      <td>1000</td>\n",
       "      <td>100.000</td>\n",
       "      <td>1</td>\n",
       "      <td>mis_id_hash1perc</td>\n",
       "    </tr>\n",
       "    <tr>\n",
       "      <th>4</th>\n",
       "      <td>10000</td>\n",
       "      <td>100.000</td>\n",
       "      <td>1</td>\n",
       "      <td>mis_id_hash1perc</td>\n",
       "    </tr>\n",
       "    <tr>\n",
       "      <th>5</th>\n",
       "      <td>100000</td>\n",
       "      <td>100.000</td>\n",
       "      <td>1</td>\n",
       "      <td>mis_id_hash1perc</td>\n",
       "    </tr>\n",
       "    <tr>\n",
       "      <th>6</th>\n",
       "      <td>1000000</td>\n",
       "      <td>75.352</td>\n",
       "      <td>1</td>\n",
       "      <td>mis_id_hash1perc</td>\n",
       "    </tr>\n",
       "    <tr>\n",
       "      <th>7</th>\n",
       "      <td>10000000</td>\n",
       "      <td>12.896</td>\n",
       "      <td>1</td>\n",
       "      <td>mis_id_hash1perc</td>\n",
       "    </tr>\n",
       "    <tr>\n",
       "      <th>8</th>\n",
       "      <td>100000000</td>\n",
       "      <td>1.332</td>\n",
       "      <td>1</td>\n",
       "      <td>mis_id_hash1perc</td>\n",
       "    </tr>\n",
       "    <tr>\n",
       "      <th>9</th>\n",
       "      <td>1000000000</td>\n",
       "      <td>0.116</td>\n",
       "      <td>1</td>\n",
       "      <td>mis_id_hash1perc</td>\n",
       "    </tr>\n",
       "    <tr>\n",
       "      <th>10</th>\n",
       "      <td>1</td>\n",
       "      <td>100.000</td>\n",
       "      <td>2</td>\n",
       "      <td>mis_id_hash2perc</td>\n",
       "    </tr>\n",
       "    <tr>\n",
       "      <th>11</th>\n",
       "      <td>10</td>\n",
       "      <td>100.000</td>\n",
       "      <td>2</td>\n",
       "      <td>mis_id_hash2perc</td>\n",
       "    </tr>\n",
       "    <tr>\n",
       "      <th>12</th>\n",
       "      <td>100</td>\n",
       "      <td>100.000</td>\n",
       "      <td>2</td>\n",
       "      <td>mis_id_hash2perc</td>\n",
       "    </tr>\n",
       "    <tr>\n",
       "      <th>13</th>\n",
       "      <td>1000</td>\n",
       "      <td>100.000</td>\n",
       "      <td>2</td>\n",
       "      <td>mis_id_hash2perc</td>\n",
       "    </tr>\n",
       "    <tr>\n",
       "      <th>14</th>\n",
       "      <td>10000</td>\n",
       "      <td>100.000</td>\n",
       "      <td>2</td>\n",
       "      <td>mis_id_hash2perc</td>\n",
       "    </tr>\n",
       "    <tr>\n",
       "      <th>15</th>\n",
       "      <td>100000</td>\n",
       "      <td>100.000</td>\n",
       "      <td>2</td>\n",
       "      <td>mis_id_hash2perc</td>\n",
       "    </tr>\n",
       "    <tr>\n",
       "      <th>16</th>\n",
       "      <td>1000000</td>\n",
       "      <td>57.016</td>\n",
       "      <td>2</td>\n",
       "      <td>mis_id_hash2perc</td>\n",
       "    </tr>\n",
       "    <tr>\n",
       "      <th>17</th>\n",
       "      <td>10000000</td>\n",
       "      <td>1.632</td>\n",
       "      <td>2</td>\n",
       "      <td>mis_id_hash2perc</td>\n",
       "    </tr>\n",
       "    <tr>\n",
       "      <th>18</th>\n",
       "      <td>100000000</td>\n",
       "      <td>0.012</td>\n",
       "      <td>2</td>\n",
       "      <td>mis_id_hash2perc</td>\n",
       "    </tr>\n",
       "    <tr>\n",
       "      <th>19</th>\n",
       "      <td>1000000000</td>\n",
       "      <td>0.000</td>\n",
       "      <td>2</td>\n",
       "      <td>mis_id_hash2perc</td>\n",
       "    </tr>\n",
       "    <tr>\n",
       "      <th>20</th>\n",
       "      <td>1</td>\n",
       "      <td>100.000</td>\n",
       "      <td>3</td>\n",
       "      <td>mis_id_hash3perc</td>\n",
       "    </tr>\n",
       "    <tr>\n",
       "      <th>21</th>\n",
       "      <td>10</td>\n",
       "      <td>100.000</td>\n",
       "      <td>3</td>\n",
       "      <td>mis_id_hash3perc</td>\n",
       "    </tr>\n",
       "    <tr>\n",
       "      <th>22</th>\n",
       "      <td>100</td>\n",
       "      <td>100.000</td>\n",
       "      <td>3</td>\n",
       "      <td>mis_id_hash3perc</td>\n",
       "    </tr>\n",
       "    <tr>\n",
       "      <th>23</th>\n",
       "      <td>1000</td>\n",
       "      <td>100.000</td>\n",
       "      <td>3</td>\n",
       "      <td>mis_id_hash3perc</td>\n",
       "    </tr>\n",
       "    <tr>\n",
       "      <th>24</th>\n",
       "      <td>10000</td>\n",
       "      <td>100.000</td>\n",
       "      <td>3</td>\n",
       "      <td>mis_id_hash3perc</td>\n",
       "    </tr>\n",
       "    <tr>\n",
       "      <th>25</th>\n",
       "      <td>100000</td>\n",
       "      <td>100.000</td>\n",
       "      <td>3</td>\n",
       "      <td>mis_id_hash3perc</td>\n",
       "    </tr>\n",
       "    <tr>\n",
       "      <th>26</th>\n",
       "      <td>1000000</td>\n",
       "      <td>42.904</td>\n",
       "      <td>3</td>\n",
       "      <td>mis_id_hash3perc</td>\n",
       "    </tr>\n",
       "    <tr>\n",
       "      <th>27</th>\n",
       "      <td>10000000</td>\n",
       "      <td>0.204</td>\n",
       "      <td>3</td>\n",
       "      <td>mis_id_hash3perc</td>\n",
       "    </tr>\n",
       "    <tr>\n",
       "      <th>28</th>\n",
       "      <td>100000000</td>\n",
       "      <td>0.000</td>\n",
       "      <td>3</td>\n",
       "      <td>mis_id_hash3perc</td>\n",
       "    </tr>\n",
       "    <tr>\n",
       "      <th>29</th>\n",
       "      <td>1000000000</td>\n",
       "      <td>0.000</td>\n",
       "      <td>3</td>\n",
       "      <td>mis_id_hash3perc</td>\n",
       "    </tr>\n",
       "    <tr>\n",
       "      <th>30</th>\n",
       "      <td>1</td>\n",
       "      <td>0.000</td>\n",
       "      <td>1</td>\n",
       "      <td>good_suggestions_hash1perc</td>\n",
       "    </tr>\n",
       "    <tr>\n",
       "      <th>31</th>\n",
       "      <td>10</td>\n",
       "      <td>0.000</td>\n",
       "      <td>1</td>\n",
       "      <td>good_suggestions_hash1perc</td>\n",
       "    </tr>\n",
       "    <tr>\n",
       "      <th>32</th>\n",
       "      <td>100</td>\n",
       "      <td>0.000</td>\n",
       "      <td>1</td>\n",
       "      <td>good_suggestions_hash1perc</td>\n",
       "    </tr>\n",
       "    <tr>\n",
       "      <th>33</th>\n",
       "      <td>1000</td>\n",
       "      <td>0.000</td>\n",
       "      <td>1</td>\n",
       "      <td>good_suggestions_hash1perc</td>\n",
       "    </tr>\n",
       "    <tr>\n",
       "      <th>34</th>\n",
       "      <td>10000</td>\n",
       "      <td>0.000</td>\n",
       "      <td>1</td>\n",
       "      <td>good_suggestions_hash1perc</td>\n",
       "    </tr>\n",
       "    <tr>\n",
       "      <th>35</th>\n",
       "      <td>100000</td>\n",
       "      <td>0.000</td>\n",
       "      <td>1</td>\n",
       "      <td>good_suggestions_hash1perc</td>\n",
       "    </tr>\n",
       "    <tr>\n",
       "      <th>36</th>\n",
       "      <td>1000000</td>\n",
       "      <td>0.000</td>\n",
       "      <td>1</td>\n",
       "      <td>good_suggestions_hash1perc</td>\n",
       "    </tr>\n",
       "    <tr>\n",
       "      <th>37</th>\n",
       "      <td>10000000</td>\n",
       "      <td>0.000</td>\n",
       "      <td>1</td>\n",
       "      <td>good_suggestions_hash1perc</td>\n",
       "    </tr>\n",
       "    <tr>\n",
       "      <th>38</th>\n",
       "      <td>100000000</td>\n",
       "      <td>32.048</td>\n",
       "      <td>1</td>\n",
       "      <td>good_suggestions_hash1perc</td>\n",
       "    </tr>\n",
       "    <tr>\n",
       "      <th>39</th>\n",
       "      <td>1000000000</td>\n",
       "      <td>93.332</td>\n",
       "      <td>1</td>\n",
       "      <td>good_suggestions_hash1perc</td>\n",
       "    </tr>\n",
       "    <tr>\n",
       "      <th>40</th>\n",
       "      <td>1</td>\n",
       "      <td>0.000</td>\n",
       "      <td>2</td>\n",
       "      <td>good_suggestions_hash2perc</td>\n",
       "    </tr>\n",
       "    <tr>\n",
       "      <th>41</th>\n",
       "      <td>10</td>\n",
       "      <td>0.000</td>\n",
       "      <td>2</td>\n",
       "      <td>good_suggestions_hash2perc</td>\n",
       "    </tr>\n",
       "    <tr>\n",
       "      <th>42</th>\n",
       "      <td>100</td>\n",
       "      <td>0.000</td>\n",
       "      <td>2</td>\n",
       "      <td>good_suggestions_hash2perc</td>\n",
       "    </tr>\n",
       "    <tr>\n",
       "      <th>43</th>\n",
       "      <td>1000</td>\n",
       "      <td>0.000</td>\n",
       "      <td>2</td>\n",
       "      <td>good_suggestions_hash2perc</td>\n",
       "    </tr>\n",
       "    <tr>\n",
       "      <th>44</th>\n",
       "      <td>10000</td>\n",
       "      <td>0.000</td>\n",
       "      <td>2</td>\n",
       "      <td>good_suggestions_hash2perc</td>\n",
       "    </tr>\n",
       "    <tr>\n",
       "      <th>45</th>\n",
       "      <td>100000</td>\n",
       "      <td>0.000</td>\n",
       "      <td>2</td>\n",
       "      <td>good_suggestions_hash2perc</td>\n",
       "    </tr>\n",
       "    <tr>\n",
       "      <th>46</th>\n",
       "      <td>1000000</td>\n",
       "      <td>0.000</td>\n",
       "      <td>2</td>\n",
       "      <td>good_suggestions_hash2perc</td>\n",
       "    </tr>\n",
       "    <tr>\n",
       "      <th>47</th>\n",
       "      <td>10000000</td>\n",
       "      <td>21.440</td>\n",
       "      <td>2</td>\n",
       "      <td>good_suggestions_hash2perc</td>\n",
       "    </tr>\n",
       "    <tr>\n",
       "      <th>48</th>\n",
       "      <td>100000000</td>\n",
       "      <td>94.716</td>\n",
       "      <td>2</td>\n",
       "      <td>good_suggestions_hash2perc</td>\n",
       "    </tr>\n",
       "    <tr>\n",
       "      <th>49</th>\n",
       "      <td>1000000000</td>\n",
       "      <td>94.808</td>\n",
       "      <td>2</td>\n",
       "      <td>good_suggestions_hash2perc</td>\n",
       "    </tr>\n",
       "    <tr>\n",
       "      <th>50</th>\n",
       "      <td>1</td>\n",
       "      <td>0.000</td>\n",
       "      <td>3</td>\n",
       "      <td>good_suggestions_hash3perc</td>\n",
       "    </tr>\n",
       "    <tr>\n",
       "      <th>51</th>\n",
       "      <td>10</td>\n",
       "      <td>0.000</td>\n",
       "      <td>3</td>\n",
       "      <td>good_suggestions_hash3perc</td>\n",
       "    </tr>\n",
       "    <tr>\n",
       "      <th>52</th>\n",
       "      <td>100</td>\n",
       "      <td>0.000</td>\n",
       "      <td>3</td>\n",
       "      <td>good_suggestions_hash3perc</td>\n",
       "    </tr>\n",
       "    <tr>\n",
       "      <th>53</th>\n",
       "      <td>1000</td>\n",
       "      <td>0.000</td>\n",
       "      <td>3</td>\n",
       "      <td>good_suggestions_hash3perc</td>\n",
       "    </tr>\n",
       "    <tr>\n",
       "      <th>54</th>\n",
       "      <td>10000</td>\n",
       "      <td>0.000</td>\n",
       "      <td>3</td>\n",
       "      <td>good_suggestions_hash3perc</td>\n",
       "    </tr>\n",
       "    <tr>\n",
       "      <th>55</th>\n",
       "      <td>100000</td>\n",
       "      <td>0.000</td>\n",
       "      <td>3</td>\n",
       "      <td>good_suggestions_hash3perc</td>\n",
       "    </tr>\n",
       "    <tr>\n",
       "      <th>56</th>\n",
       "      <td>1000000</td>\n",
       "      <td>0.000</td>\n",
       "      <td>3</td>\n",
       "      <td>good_suggestions_hash3perc</td>\n",
       "    </tr>\n",
       "    <tr>\n",
       "      <th>57</th>\n",
       "      <td>10000000</td>\n",
       "      <td>91.600</td>\n",
       "      <td>3</td>\n",
       "      <td>good_suggestions_hash3perc</td>\n",
       "    </tr>\n",
       "    <tr>\n",
       "      <th>58</th>\n",
       "      <td>100000000</td>\n",
       "      <td>94.808</td>\n",
       "      <td>3</td>\n",
       "      <td>good_suggestions_hash3perc</td>\n",
       "    </tr>\n",
       "    <tr>\n",
       "      <th>59</th>\n",
       "      <td>1000000000</td>\n",
       "      <td>94.808</td>\n",
       "      <td>3</td>\n",
       "      <td>good_suggestions_hash3perc</td>\n",
       "    </tr>\n",
       "  </tbody>\n",
       "</table>\n",
       "</div>"
      ],
      "text/plain": [
       "        n_bits  percentage hash_options                       notes\n",
       "0            1     100.000            1            mis_id_hash1perc\n",
       "1           10     100.000            1            mis_id_hash1perc\n",
       "2          100     100.000            1            mis_id_hash1perc\n",
       "3         1000     100.000            1            mis_id_hash1perc\n",
       "4        10000     100.000            1            mis_id_hash1perc\n",
       "5       100000     100.000            1            mis_id_hash1perc\n",
       "6      1000000      75.352            1            mis_id_hash1perc\n",
       "7     10000000      12.896            1            mis_id_hash1perc\n",
       "8    100000000       1.332            1            mis_id_hash1perc\n",
       "9   1000000000       0.116            1            mis_id_hash1perc\n",
       "10           1     100.000            2            mis_id_hash2perc\n",
       "11          10     100.000            2            mis_id_hash2perc\n",
       "12         100     100.000            2            mis_id_hash2perc\n",
       "13        1000     100.000            2            mis_id_hash2perc\n",
       "14       10000     100.000            2            mis_id_hash2perc\n",
       "15      100000     100.000            2            mis_id_hash2perc\n",
       "16     1000000      57.016            2            mis_id_hash2perc\n",
       "17    10000000       1.632            2            mis_id_hash2perc\n",
       "18   100000000       0.012            2            mis_id_hash2perc\n",
       "19  1000000000       0.000            2            mis_id_hash2perc\n",
       "20           1     100.000            3            mis_id_hash3perc\n",
       "21          10     100.000            3            mis_id_hash3perc\n",
       "22         100     100.000            3            mis_id_hash3perc\n",
       "23        1000     100.000            3            mis_id_hash3perc\n",
       "24       10000     100.000            3            mis_id_hash3perc\n",
       "25      100000     100.000            3            mis_id_hash3perc\n",
       "26     1000000      42.904            3            mis_id_hash3perc\n",
       "27    10000000       0.204            3            mis_id_hash3perc\n",
       "28   100000000       0.000            3            mis_id_hash3perc\n",
       "29  1000000000       0.000            3            mis_id_hash3perc\n",
       "30           1       0.000            1  good_suggestions_hash1perc\n",
       "31          10       0.000            1  good_suggestions_hash1perc\n",
       "32         100       0.000            1  good_suggestions_hash1perc\n",
       "33        1000       0.000            1  good_suggestions_hash1perc\n",
       "34       10000       0.000            1  good_suggestions_hash1perc\n",
       "35      100000       0.000            1  good_suggestions_hash1perc\n",
       "36     1000000       0.000            1  good_suggestions_hash1perc\n",
       "37    10000000       0.000            1  good_suggestions_hash1perc\n",
       "38   100000000      32.048            1  good_suggestions_hash1perc\n",
       "39  1000000000      93.332            1  good_suggestions_hash1perc\n",
       "40           1       0.000            2  good_suggestions_hash2perc\n",
       "41          10       0.000            2  good_suggestions_hash2perc\n",
       "42         100       0.000            2  good_suggestions_hash2perc\n",
       "43        1000       0.000            2  good_suggestions_hash2perc\n",
       "44       10000       0.000            2  good_suggestions_hash2perc\n",
       "45      100000       0.000            2  good_suggestions_hash2perc\n",
       "46     1000000       0.000            2  good_suggestions_hash2perc\n",
       "47    10000000      21.440            2  good_suggestions_hash2perc\n",
       "48   100000000      94.716            2  good_suggestions_hash2perc\n",
       "49  1000000000      94.808            2  good_suggestions_hash2perc\n",
       "50           1       0.000            3  good_suggestions_hash3perc\n",
       "51          10       0.000            3  good_suggestions_hash3perc\n",
       "52         100       0.000            3  good_suggestions_hash3perc\n",
       "53        1000       0.000            3  good_suggestions_hash3perc\n",
       "54       10000       0.000            3  good_suggestions_hash3perc\n",
       "55      100000       0.000            3  good_suggestions_hash3perc\n",
       "56     1000000       0.000            3  good_suggestions_hash3perc\n",
       "57    10000000      91.600            3  good_suggestions_hash3perc\n",
       "58   100000000      94.808            3  good_suggestions_hash3perc\n",
       "59  1000000000      94.808            3  good_suggestions_hash3perc"
      ]
     },
     "execution_count": 226,
     "metadata": {},
     "output_type": "execute_result"
    }
   ],
   "source": [
    "plot_dataframe1#dataframe for plotting percentage (including misidentifications and good suggestions using three hash options separately) "
   ]
  },
  {
   "cell_type": "code",
   "execution_count": 222,
   "metadata": {},
   "outputs": [
    {
     "data": {
      "image/png": "[encoded data removed]",
      "text/plain": [
       "<Figure size 640x480 with 1 Axes>"
      ]
     },
     "metadata": {
      "needs_background": "light"
     },
     "output_type": "display_data"
    },
    {
     "name": "stdout",
     "output_type": "stream",
     "text": [
      "\n"
     ]
    }
   ],
   "source": [
    "#plotting percentage_vs_n_bits\n",
    "percentage_vs_n_bits=(ggplot(plot_dataframe1, aes(x='n_bits', y='percentage',color = 'notes'))\n",
    " +geom_line()\n",
    " +scale_x_continuous(trans='log10',expand=(0,0))\n",
    " +theme_matplotlib()\n",
    ")\n",
    "print(percentage_vs_n_bits)"
   ]
  },
  {
   "cell_type": "code",
   "execution_count": 223,
   "metadata": {},
   "outputs": [],
   "source": [
    "# annotations for percentage_vs_n_bits:\n",
    "# good_suggestions_hash1perc represents the percentage of good suggestions when using one hash function\n",
    "# good_suggestions_hash2perc represents the percentage of good suggestions when using two hash functions\n",
    "# good_suggestions_hash3perc represents the percentage of good suggestions when using three hash functions\n",
    "# while: mis_id_hash1perc represents the percentage of misidentifications when using one hash function\n",
    "# mis_id_hash2perc represents the percentage of misidentifications when using two hash functions\n",
    "# mis_id_hash3perc represents the percentage of misidentifications when using three hash functions"
   ]
  }
 ],
 "metadata": {
  "kernelspec": {
   "display_name": "Python 3",
   "language": "python",
   "name": "python3"
  },
  "language_info": {
   "codemirror_mode": {
    "name": "ipython",
    "version": 3
   },
   "file_extension": ".py",
   "mimetype": "text/x-python",
   "name": "python",
   "nbconvert_exporter": "python",
   "pygments_lexer": "ipython3",
   "version": "3.8.5"
  }
 },
 "nbformat": 4,
 "nbformat_minor": 4
}
